{
 "cells": [
  {
   "cell_type": "code",
   "execution_count": 1,
   "id": "fe3ada11-d4e5-4ff4-9f65-cb7e7056dcee",
   "metadata": {},
   "outputs": [
    {
     "name": "stdout",
     "output_type": "stream",
     "text": [
      "Scraping complete. Data saved to Excel.\n"
     ]
    }
   ],
   "source": [
    "import requests\n",
    "from bs4 import BeautifulSoup\n",
    "import pandas as pd\n",
    "import time\n",
    "\n",
    "headers = {\n",
    "    \"User-Agent\": \"Mozilla/5.0 (Windows NT 10.0; Win64; x64)\"\n",
    "}\n",
    "\n",
    "# Example TripAdvisor hotel review page\n",
    "base_url = \"https://www.tripadvisor.com/Hotel_Review-g60763-d93542-Reviews-or{}-Hotel_Name-New_York_City_New_York.html\"\n",
    "\n",
    "data = []\n",
    "\n",
    "for offset in range(0, 50, 5):  # Adjust the range for more pages (each page = 5 reviews approx)\n",
    "    url = base_url.format(offset)\n",
    "    response = requests.get(url, headers=headers)\n",
    "    soup = BeautifulSoup(response.content, 'html.parser')\n",
    "\n",
    "    reviews = soup.find_all('div', class_='review-container')\n",
    "\n",
    "    for review in reviews:\n",
    "        title = review.find('span', class_='noQuotes')\n",
    "        text = review.find('p', class_='partial_entry')\n",
    "        rating_tag = review.find('span', class_='ui_bubble_rating')\n",
    "        date_tag = review.find('span', class_='ratingDate')\n",
    "\n",
    "        # Extract rating value from class name (e.g., \"bubble_50\" = 5.0 stars)\n",
    "        rating = None\n",
    "        if rating_tag:\n",
    "            class_str = rating_tag.get(\"class\", [])\n",
    "            for cls in class_str:\n",
    "                if cls.startswith(\"bubble_\"):\n",
    "                    rating = int(cls.split(\"_\")[1]) / 10.0\n",
    "\n",
    "        data.append({\n",
    "            \"title\": title.text.strip() if title else None,\n",
    "            \"text\": text.text.strip() if text else None,\n",
    "            \"rating\": rating,\n",
    "            \"publishedDate\": date_tag.get(\"title\") if date_tag and date_tag.has_attr(\"title\") else None,\n",
    "            \"location\": \"New York City\",  # Hardcoded from URL (can be parsed)\n",
    "        })\n",
    "\n",
    "    time.sleep(2)  # Be respectful of TripAdvisor's servers\n",
    "\n",
    "# Convert to DataFrame and save\n",
    "df = pd.DataFrame(data)\n",
    "df.to_excel(\"tripadvisor_reviews_scraped.xlsx\", index=False)\n",
    "print(\"Scraping complete. Data saved to Excel.\")\n"
   ]
  },
  {
   "cell_type": "code",
   "execution_count": null,
   "id": "f5814f79-4247-4bb4-8a3a-2b8ff32521c6",
   "metadata": {},
   "outputs": [],
   "source": []
  }
 ],
 "metadata": {
  "kernelspec": {
   "display_name": "Python 3 (ipykernel)",
   "language": "python",
   "name": "python3"
  },
  "language_info": {
   "codemirror_mode": {
    "name": "ipython",
    "version": 3
   },
   "file_extension": ".py",
   "mimetype": "text/x-python",
   "name": "python",
   "nbconvert_exporter": "python",
   "pygments_lexer": "ipython3",
   "version": "3.12.7"
  }
 },
 "nbformat": 4,
 "nbformat_minor": 5
}
